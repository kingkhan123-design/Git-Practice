{
  "nbformat": 4,
  "nbformat_minor": 0,
  "metadata": {
    "colab": {
      "name": "Cnn_Architecture Practice file",
      "provenance": [],
      "collapsed_sections": []
    },
    "kernelspec": {
      "name": "python3",
      "display_name": "Python 3"
    }
  },
  "cells": [
    {
      "cell_type": "code",
      "metadata": {
        "colab": {
          "base_uri": "https://localhost:8080/"
        },
        "id": "EjK6_LyGCI0a",
        "outputId": "2dd149df-5388-4534-e31c-8262760fa5d6"
      },
      "source": [
        "!pip install keras.applications"
      ],
      "execution_count": 34,
      "outputs": [
        {
          "output_type": "stream",
          "name": "stdout",
          "text": [
            "Requirement already satisfied: keras.applications in /usr/local/lib/python3.7/dist-packages (1.0.8)\n",
            "Requirement already satisfied: h5py in /usr/local/lib/python3.7/dist-packages (from keras.applications) (3.1.0)\n",
            "Requirement already satisfied: numpy>=1.9.1 in /usr/local/lib/python3.7/dist-packages (from keras.applications) (1.21.5)\n",
            "Requirement already satisfied: cached-property in /usr/local/lib/python3.7/dist-packages (from h5py->keras.applications) (1.5.2)\n"
          ]
        }
      ]
    },
    {
      "cell_type": "code",
      "metadata": {
        "id": "9rRtvqcnkuHU"
      },
      "source": [
        "from tensorflow.keras.applications import ResNet101\n",
        "from keras.preprocessing import image\n",
        "from  tensorflow.keras.applications.resnet50 import preprocess_input, decode_predictions\n",
        "#from  tensorflow.keras.applications import vgg16, inception_v3, resnet101\n",
        "import numpy as np\n",
        "\n",
        "resnet_model = ResNet101(weights='imagenet')"
      ],
      "execution_count": 35,
      "outputs": []
    },
    {
      "cell_type": "code",
      "metadata": {
        "id": "642N9ZP0kzV1",
        "colab": {
          "base_uri": "https://localhost:8080/"
        },
        "outputId": "6b7ab4b9-aeb6-4886-ceeb-6dd80cc9799e"
      },
      "source": [
        "from keras.preprocessing import image\n",
        "\n",
        "\n",
        "img_path = '/content/srk.jfif' \n",
        "\n",
        "img = image.load_img(img_path, target_size=(224, 224))\n",
        "x = image.img_to_array(img)\n",
        "print(x.shape)\n",
        "x = np.expand_dims(x, axis=0)\n",
        "print(x.shape)\n",
        "x = preprocess_input(x)\n",
        "\n",
        "preds = resnet_model.predict(x)\n",
        "# decode the results into a list of tuples (class, description, probability)\n",
        "# (one such list for each sample in the batch)\n",
        "print('Predicted:', decode_predictions(preds, top=5)[0])"
      ],
      "execution_count": 36,
      "outputs": [
        {
          "output_type": "stream",
          "name": "stdout",
          "text": [
            "(224, 224, 3)\n",
            "(1, 224, 224, 3)\n",
            "Predicted: [('n02669723', 'academic_gown', 0.29748106), ('n03594734', 'jean', 0.08690118), ('n04350905', 'suit', 0.052570183), ('n03787032', 'mortarboard', 0.050137255), ('n04325704', 'stole', 0.037193235)]\n"
          ]
        }
      ]
    },
    {
      "cell_type": "code",
      "metadata": {
        "id": "J3L4MckAnlfD"
      },
      "source": [
        "from  tensorflow.keras.applications import VGG16,VGG19\n",
        "from keras.preprocessing import image\n",
        "import numpy as np\n",
        "vggModel=VGG16(weights='imagenet')\n",
        "vgg19Model=VGG19(weights='imagenet')"
      ],
      "execution_count": 37,
      "outputs": []
    },
    {
      "cell_type": "code",
      "metadata": {
        "colab": {
          "base_uri": "https://localhost:8080/"
        },
        "id": "0ScHWu3QDF88",
        "outputId": "7609969a-5870-4afe-cb03-998af77e5515"
      },
      "source": [
        "path='/content/srk.jfif'\n",
        "pimg=image.load_img(path,target_size=(224,224))\n",
        "iarray=image.img_to_array(pimg)\n",
        "print('image shape',iarray.shape)\n",
        "iexpand = np.expand_dims(iarray,axis=0)\n",
        "iexpand.shape"
      ],
      "execution_count": 38,
      "outputs": [
        {
          "output_type": "stream",
          "name": "stdout",
          "text": [
            "image shape (224, 224, 3)\n"
          ]
        },
        {
          "output_type": "execute_result",
          "data": {
            "text/plain": [
              "(1, 224, 224, 3)"
            ]
          },
          "metadata": {},
          "execution_count": 38
        }
      ]
    },
    {
      "cell_type": "code",
      "metadata": {
        "colab": {
          "base_uri": "https://localhost:8080/"
        },
        "id": "-lPApcrPGFWV",
        "outputId": "44a0e13a-0ecb-4eac-d616-6f8567988513"
      },
      "source": [
        "iexpand"
      ],
      "execution_count": 39,
      "outputs": [
        {
          "output_type": "execute_result",
          "data": {
            "text/plain": [
              "array([[[[253., 247., 247.],\n",
              "         [243., 237., 237.],\n",
              "         [255., 253., 253.],\n",
              "         ...,\n",
              "         [255., 254., 255.],\n",
              "         [255., 254., 255.],\n",
              "         [255., 254., 255.]],\n",
              "\n",
              "        [[254., 248., 248.],\n",
              "         [255., 253., 253.],\n",
              "         [255., 253., 253.],\n",
              "         ...,\n",
              "         [255., 254., 255.],\n",
              "         [255., 254., 255.],\n",
              "         [255., 254., 255.]],\n",
              "\n",
              "        [[249., 243., 243.],\n",
              "         [250., 244., 244.],\n",
              "         [249., 243., 243.],\n",
              "         ...,\n",
              "         [255., 255., 255.],\n",
              "         [255., 255., 255.],\n",
              "         [255., 255., 255.]],\n",
              "\n",
              "        ...,\n",
              "\n",
              "        [[248., 255., 255.],\n",
              "         [242., 250., 253.],\n",
              "         [247., 252., 255.],\n",
              "         ...,\n",
              "         [255., 255., 255.],\n",
              "         [255., 255., 255.],\n",
              "         [255., 255., 255.]],\n",
              "\n",
              "        [[255., 255., 255.],\n",
              "         [255., 255., 255.],\n",
              "         [255., 255., 255.],\n",
              "         ...,\n",
              "         [255., 255., 255.],\n",
              "         [255., 255., 255.],\n",
              "         [255., 255., 255.]],\n",
              "\n",
              "        [[255., 255., 255.],\n",
              "         [255., 255., 255.],\n",
              "         [255., 255., 255.],\n",
              "         ...,\n",
              "         [255., 255., 255.],\n",
              "         [255., 255., 255.],\n",
              "         [255., 255., 255.]]]], dtype=float32)"
            ]
          },
          "metadata": {},
          "execution_count": 39
        }
      ]
    },
    {
      "cell_type": "code",
      "metadata": {
        "colab": {
          "base_uri": "https://localhost:8080/"
        },
        "id": "SSz4PymtEhXW",
        "outputId": "7e09cfb4-a9df-40dd-eb67-894885385be7"
      },
      "source": [
        "from tensorflow.keras.applications.vgg16 import preprocess_input\n",
        "preprocess_input(iexpand)"
      ],
      "execution_count": 40,
      "outputs": [
        {
          "output_type": "execute_result",
          "data": {
            "text/plain": [
              "array([[[[143.061  , 130.22101, 129.32   ],\n",
              "         [133.061  , 120.221  , 119.32   ],\n",
              "         [149.061  , 136.22101, 131.32   ],\n",
              "         ...,\n",
              "         [151.061  , 137.22101, 131.32   ],\n",
              "         [151.061  , 137.22101, 131.32   ],\n",
              "         [151.061  , 137.22101, 131.32   ]],\n",
              "\n",
              "        [[144.061  , 131.22101, 130.32   ],\n",
              "         [149.061  , 136.22101, 131.32   ],\n",
              "         [149.061  , 136.22101, 131.32   ],\n",
              "         ...,\n",
              "         [151.061  , 137.22101, 131.32   ],\n",
              "         [151.061  , 137.22101, 131.32   ],\n",
              "         [151.061  , 137.22101, 131.32   ]],\n",
              "\n",
              "        [[139.061  , 126.221  , 125.32   ],\n",
              "         [140.061  , 127.221  , 126.32   ],\n",
              "         [139.061  , 126.221  , 125.32   ],\n",
              "         ...,\n",
              "         [151.061  , 138.22101, 131.32   ],\n",
              "         [151.061  , 138.22101, 131.32   ],\n",
              "         [151.061  , 138.22101, 131.32   ]],\n",
              "\n",
              "        ...,\n",
              "\n",
              "        [[151.061  , 138.22101, 124.32   ],\n",
              "         [149.061  , 133.22101, 118.32   ],\n",
              "         [151.061  , 135.22101, 123.32   ],\n",
              "         ...,\n",
              "         [151.061  , 138.22101, 131.32   ],\n",
              "         [151.061  , 138.22101, 131.32   ],\n",
              "         [151.061  , 138.22101, 131.32   ]],\n",
              "\n",
              "        [[151.061  , 138.22101, 131.32   ],\n",
              "         [151.061  , 138.22101, 131.32   ],\n",
              "         [151.061  , 138.22101, 131.32   ],\n",
              "         ...,\n",
              "         [151.061  , 138.22101, 131.32   ],\n",
              "         [151.061  , 138.22101, 131.32   ],\n",
              "         [151.061  , 138.22101, 131.32   ]],\n",
              "\n",
              "        [[151.061  , 138.22101, 131.32   ],\n",
              "         [151.061  , 138.22101, 131.32   ],\n",
              "         [151.061  , 138.22101, 131.32   ],\n",
              "         ...,\n",
              "         [151.061  , 138.22101, 131.32   ],\n",
              "         [151.061  , 138.22101, 131.32   ],\n",
              "         [151.061  , 138.22101, 131.32   ]]]], dtype=float32)"
            ]
          },
          "metadata": {},
          "execution_count": 40
        }
      ]
    },
    {
      "cell_type": "code",
      "metadata": {
        "id": "W7gzO_6jGCzD"
      },
      "source": [
        "pred=vggModel.predict(iexpand)\n",
        "pred19=vgg19Model.predict(iexpand)\n"
      ],
      "execution_count": 41,
      "outputs": []
    },
    {
      "cell_type": "code",
      "metadata": {
        "colab": {
          "base_uri": "https://localhost:8080/"
        },
        "id": "ABdLMP5TGT3W",
        "outputId": "78b2dc60-d6b6-4f1f-91e0-746cd9619a02"
      },
      "source": [
        "from  tensorflow.keras.applications.vgg16 import decode_predictions\n",
        "decode_predictions(pred,top=5)[0]"
      ],
      "execution_count": 42,
      "outputs": [
        {
          "output_type": "execute_result",
          "data": {
            "text/plain": [
              "[('n03814639', 'neck_brace', 0.20541821),\n",
              " ('n04404412', 'television', 0.13408478),\n",
              " ('n06359193', 'web_site', 0.09797997),\n",
              " ('n03630383', 'lab_coat', 0.048340682),\n",
              " ('n07248320', 'book_jacket', 0.046014305)]"
            ]
          },
          "metadata": {},
          "execution_count": 42
        }
      ]
    },
    {
      "cell_type": "code",
      "metadata": {
        "colab": {
          "base_uri": "https://localhost:8080/"
        },
        "id": "_CvNF-bMHAs0",
        "outputId": "0eee776c-9e04-41fe-d78e-35d24785a862"
      },
      "source": [
        " decode_predictions(pred19,top=5)[0]"
      ],
      "execution_count": 43,
      "outputs": [
        {
          "output_type": "execute_result",
          "data": {
            "text/plain": [
              "[('n04584207', 'wig', 0.2102813),\n",
              " ('n06359193', 'web_site', 0.19215566),\n",
              " ('n07248320', 'book_jacket', 0.07603446),\n",
              " ('n03476991', 'hair_spray', 0.05092223),\n",
              " ('n03388043', 'fountain', 0.039329518)]"
            ]
          },
          "metadata": {},
          "execution_count": 43
        }
      ]
    },
    {
      "cell_type": "code",
      "metadata": {
        "id": "b-9ybXD2I6Xk"
      },
      "source": [
        "from tensorflow.keras.applications import ResNet50,ResNet152\n",
        "import numpy as np\n",
        "from tensorflow.keras.preprocessing import image\n",
        "from tensorflow.keras.applications.resnet50 import decode_predictions,preprocess_input\n"
      ],
      "execution_count": 44,
      "outputs": []
    },
    {
      "cell_type": "code",
      "source": [
        "!pip install tensorflow==2.7"
      ],
      "metadata": {
        "colab": {
          "base_uri": "https://localhost:8080/"
        },
        "id": "RnB2bcmW1vFB",
        "outputId": "b6cd2def-60f8-4d2e-b0dc-b6c068294cae"
      },
      "execution_count": 45,
      "outputs": [
        {
          "output_type": "stream",
          "name": "stdout",
          "text": [
            "Requirement already satisfied: tensorflow==2.7 in /usr/local/lib/python3.7/dist-packages (2.7.0)\n",
            "Requirement already satisfied: libclang>=9.0.1 in /usr/local/lib/python3.7/dist-packages (from tensorflow==2.7) (13.0.0)\n",
            "Requirement already satisfied: typing-extensions>=3.6.6 in /usr/local/lib/python3.7/dist-packages (from tensorflow==2.7) (3.10.0.2)\n",
            "Requirement already satisfied: tensorflow-estimator<2.8,~=2.7.0rc0 in /usr/local/lib/python3.7/dist-packages (from tensorflow==2.7) (2.7.0)\n",
            "Requirement already satisfied: six>=1.12.0 in /usr/local/lib/python3.7/dist-packages (from tensorflow==2.7) (1.15.0)\n",
            "Requirement already satisfied: google-pasta>=0.1.1 in /usr/local/lib/python3.7/dist-packages (from tensorflow==2.7) (0.2.0)\n",
            "Requirement already satisfied: wheel<1.0,>=0.32.0 in /usr/local/lib/python3.7/dist-packages (from tensorflow==2.7) (0.37.1)\n",
            "Requirement already satisfied: protobuf>=3.9.2 in /usr/local/lib/python3.7/dist-packages (from tensorflow==2.7) (3.17.3)\n",
            "Requirement already satisfied: tensorboard~=2.6 in /usr/local/lib/python3.7/dist-packages (from tensorflow==2.7) (2.8.0)\n",
            "Requirement already satisfied: opt-einsum>=2.3.2 in /usr/local/lib/python3.7/dist-packages (from tensorflow==2.7) (3.3.0)\n",
            "Requirement already satisfied: wrapt>=1.11.0 in /usr/local/lib/python3.7/dist-packages (from tensorflow==2.7) (1.13.3)\n",
            "Requirement already satisfied: grpcio<2.0,>=1.24.3 in /usr/local/lib/python3.7/dist-packages (from tensorflow==2.7) (1.43.0)\n",
            "Requirement already satisfied: tensorflow-io-gcs-filesystem>=0.21.0 in /usr/local/lib/python3.7/dist-packages (from tensorflow==2.7) (0.24.0)\n",
            "Requirement already satisfied: flatbuffers<3.0,>=1.12 in /usr/local/lib/python3.7/dist-packages (from tensorflow==2.7) (2.0)\n",
            "Requirement already satisfied: absl-py>=0.4.0 in /usr/local/lib/python3.7/dist-packages (from tensorflow==2.7) (1.0.0)\n",
            "Requirement already satisfied: keras<2.8,>=2.7.0rc0 in /usr/local/lib/python3.7/dist-packages (from tensorflow==2.7) (2.7.0)\n",
            "Requirement already satisfied: keras-preprocessing>=1.1.1 in /usr/local/lib/python3.7/dist-packages (from tensorflow==2.7) (1.1.2)\n",
            "Requirement already satisfied: astunparse>=1.6.0 in /usr/local/lib/python3.7/dist-packages (from tensorflow==2.7) (1.6.3)\n",
            "Requirement already satisfied: numpy>=1.14.5 in /usr/local/lib/python3.7/dist-packages (from tensorflow==2.7) (1.21.5)\n",
            "Requirement already satisfied: termcolor>=1.1.0 in /usr/local/lib/python3.7/dist-packages (from tensorflow==2.7) (1.1.0)\n",
            "Requirement already satisfied: h5py>=2.9.0 in /usr/local/lib/python3.7/dist-packages (from tensorflow==2.7) (3.1.0)\n",
            "Requirement already satisfied: gast<0.5.0,>=0.2.1 in /usr/local/lib/python3.7/dist-packages (from tensorflow==2.7) (0.4.0)\n",
            "Requirement already satisfied: cached-property in /usr/local/lib/python3.7/dist-packages (from h5py>=2.9.0->tensorflow==2.7) (1.5.2)\n",
            "Requirement already satisfied: markdown>=2.6.8 in /usr/local/lib/python3.7/dist-packages (from tensorboard~=2.6->tensorflow==2.7) (3.3.6)\n",
            "Requirement already satisfied: setuptools>=41.0.0 in /usr/local/lib/python3.7/dist-packages (from tensorboard~=2.6->tensorflow==2.7) (57.4.0)\n",
            "Requirement already satisfied: requests<3,>=2.21.0 in /usr/local/lib/python3.7/dist-packages (from tensorboard~=2.6->tensorflow==2.7) (2.23.0)\n",
            "Requirement already satisfied: google-auth<3,>=1.6.3 in /usr/local/lib/python3.7/dist-packages (from tensorboard~=2.6->tensorflow==2.7) (1.35.0)\n",
            "Requirement already satisfied: tensorboard-data-server<0.7.0,>=0.6.0 in /usr/local/lib/python3.7/dist-packages (from tensorboard~=2.6->tensorflow==2.7) (0.6.1)\n",
            "Requirement already satisfied: tensorboard-plugin-wit>=1.6.0 in /usr/local/lib/python3.7/dist-packages (from tensorboard~=2.6->tensorflow==2.7) (1.8.1)\n",
            "Requirement already satisfied: google-auth-oauthlib<0.5,>=0.4.1 in /usr/local/lib/python3.7/dist-packages (from tensorboard~=2.6->tensorflow==2.7) (0.4.6)\n",
            "Requirement already satisfied: werkzeug>=0.11.15 in /usr/local/lib/python3.7/dist-packages (from tensorboard~=2.6->tensorflow==2.7) (1.0.1)\n",
            "Requirement already satisfied: cachetools<5.0,>=2.0.0 in /usr/local/lib/python3.7/dist-packages (from google-auth<3,>=1.6.3->tensorboard~=2.6->tensorflow==2.7) (4.2.4)\n",
            "Requirement already satisfied: pyasn1-modules>=0.2.1 in /usr/local/lib/python3.7/dist-packages (from google-auth<3,>=1.6.3->tensorboard~=2.6->tensorflow==2.7) (0.2.8)\n",
            "Requirement already satisfied: rsa<5,>=3.1.4 in /usr/local/lib/python3.7/dist-packages (from google-auth<3,>=1.6.3->tensorboard~=2.6->tensorflow==2.7) (4.8)\n",
            "Requirement already satisfied: requests-oauthlib>=0.7.0 in /usr/local/lib/python3.7/dist-packages (from google-auth-oauthlib<0.5,>=0.4.1->tensorboard~=2.6->tensorflow==2.7) (1.3.1)\n",
            "Requirement already satisfied: importlib-metadata>=4.4 in /usr/local/lib/python3.7/dist-packages (from markdown>=2.6.8->tensorboard~=2.6->tensorflow==2.7) (4.11.0)\n",
            "Requirement already satisfied: zipp>=0.5 in /usr/local/lib/python3.7/dist-packages (from importlib-metadata>=4.4->markdown>=2.6.8->tensorboard~=2.6->tensorflow==2.7) (3.7.0)\n",
            "Requirement already satisfied: pyasn1<0.5.0,>=0.4.6 in /usr/local/lib/python3.7/dist-packages (from pyasn1-modules>=0.2.1->google-auth<3,>=1.6.3->tensorboard~=2.6->tensorflow==2.7) (0.4.8)\n",
            "Requirement already satisfied: certifi>=2017.4.17 in /usr/local/lib/python3.7/dist-packages (from requests<3,>=2.21.0->tensorboard~=2.6->tensorflow==2.7) (2021.10.8)\n",
            "Requirement already satisfied: urllib3!=1.25.0,!=1.25.1,<1.26,>=1.21.1 in /usr/local/lib/python3.7/dist-packages (from requests<3,>=2.21.0->tensorboard~=2.6->tensorflow==2.7) (1.24.3)\n",
            "Requirement already satisfied: chardet<4,>=3.0.2 in /usr/local/lib/python3.7/dist-packages (from requests<3,>=2.21.0->tensorboard~=2.6->tensorflow==2.7) (3.0.4)\n",
            "Requirement already satisfied: idna<3,>=2.5 in /usr/local/lib/python3.7/dist-packages (from requests<3,>=2.21.0->tensorboard~=2.6->tensorflow==2.7) (2.10)\n",
            "Requirement already satisfied: oauthlib>=3.0.0 in /usr/local/lib/python3.7/dist-packages (from requests-oauthlib>=0.7.0->google-auth-oauthlib<0.5,>=0.4.1->tensorboard~=2.6->tensorflow==2.7) (3.2.0)\n"
          ]
        }
      ]
    },
    {
      "cell_type": "code",
      "metadata": {
        "id": "kU5_bPH0PuRd"
      },
      "source": [
        "from tensorflow.python.keras.applications.resnet_v2 import ResNet152V2\n",
        "rmodel=ResNet50(weights='imagenet')\n",
        "rmmodel152=ResNet152(weights='imagenet')"
      ],
      "execution_count": 30,
      "outputs": []
    },
    {
      "cell_type": "code",
      "metadata": {
        "id": "gtZ8hwjIPzDd"
      },
      "source": [
        "file='/content/download.jfif'\n",
        "dimg =image.load_img(file,target_size=(224,224))\n",
        "darray =image.img_to_array(dimg)\n",
        "dexpand=np.expand_dims(darray,axis=0)\n",
        "pv=rmodel.predict(dexpand)\n",
        "pv1=rmmodel152.predict(dexpand)\n"
      ],
      "execution_count": 31,
      "outputs": []
    },
    {
      "cell_type": "code",
      "metadata": {
        "colab": {
          "base_uri": "https://localhost:8080/"
        },
        "id": "jmBra0gsQn7b",
        "outputId": "cc28a9c4-262e-4038-db11-07b3ff3b5570"
      },
      "source": [
        "decode_predictions(pv)"
      ],
      "execution_count": 32,
      "outputs": [
        {
          "output_type": "execute_result",
          "data": {
            "text/plain": [
              "[[('n06785654', 'crossword_puzzle', 0.58426714),\n",
              "  ('n04238763', 'slide_rule', 0.30104077),\n",
              "  ('n04505470', 'typewriter_keyboard', 0.036201607),\n",
              "  ('n03085013', 'computer_keyboard', 0.01791462),\n",
              "  ('n04264628', 'space_bar', 0.009518249)]]"
            ]
          },
          "metadata": {},
          "execution_count": 32
        }
      ]
    },
    {
      "cell_type": "code",
      "metadata": {
        "colab": {
          "base_uri": "https://localhost:8080/"
        },
        "id": "Z0cWpwN1Qr9m",
        "outputId": "258fa5f3-4afe-44bf-b73d-85ab1ada5a3f"
      },
      "source": [
        "from tensorflow.keras.applications.resnet_v2 import decode_predictions,preprocess_input\n",
        "decode_predictions(pv1)"
      ],
      "execution_count": 33,
      "outputs": [
        {
          "output_type": "execute_result",
          "data": {
            "text/plain": [
              "[[('n06785654', 'crossword_puzzle', 0.6635123),\n",
              "  ('n03085013', 'computer_keyboard', 0.046548966),\n",
              "  ('n04238763', 'slide_rule', 0.040811647),\n",
              "  ('n03485407', 'hand-held_computer', 0.030685237),\n",
              "  ('n04141975', 'scale', 0.020429578)]]"
            ]
          },
          "metadata": {},
          "execution_count": 33
        }
      ]
    },
    {
      "cell_type": "code",
      "metadata": {
        "id": "r20yL8y0TN_n"
      },
      "source": [
        ""
      ],
      "execution_count": 33,
      "outputs": []
    }
  ]
}